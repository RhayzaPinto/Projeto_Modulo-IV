{
  "cells": [
    {
      "cell_type": "markdown",
      "metadata": {},
      "source": [
        "# Projeto de módulo 4 - Resilia - Analisando e tratando dados"
      ]
    },
    {
      "cell_type": "markdown",
      "metadata": {},
      "source": [
        " Nosso objetivo nesse projeto é realizar a análise de dois datasets diferentes, relacionados aos preços, datas e locais de venda de todo tipo de combustível, no período de Junho a Julho de 2021"
      ]
    },
    {
      "cell_type": "markdown",
      "metadata": {
        "colab_type": "text",
        "id": "view-in-github"
      },
      "source": [
        "<a href=\"https://colab.research.google.com/github/RhayzaPinto/Projeto_Modulo-IV/blob/sartorio/Projeto_M%C3%B3dulo_4_Dados.ipynb\" target=\"_parent\"><img src=\"https://colab.research.google.com/assets/colab-badge.svg\" alt=\"Open In Colab\"/></a>"
      ]
    },
    {
      "cell_type": "markdown",
      "metadata": {},
      "source": [
        "Importando as bibliotecas que serão utilizadas na nossa análise"
      ]
    },
    {
      "cell_type": "code",
      "execution_count": 19,
      "metadata": {
        "id": "1PCL5Pxj6Ef1"
      },
      "outputs": [],
      "source": [
        "import pandas as pd\n",
        "import numpy as np\n",
        "from datetime import datetime, timedelta"
      ]
    },
    {
      "cell_type": "markdown",
      "metadata": {
        "id": "LLf868aZn7Mh"
      },
      "source": [
        "## Análise de Dados do mês de Junho de 2021"
      ]
    },
    {
      "cell_type": "markdown",
      "metadata": {},
      "source": [
        "### Importando nossos dados diretamente da URL"
      ]
    },
    {
      "cell_type": "code",
      "execution_count": 2,
      "metadata": {
        "colab": {
          "base_uri": "https://localhost:8080/",
          "height": 922
        },
        "id": "okwYjK9JA0jo",
        "outputId": "40de7ce1-e163-4d0d-d02c-b37f8bebff45"
      },
      "outputs": [],
      "source": [
        "link = 'https://www.gov.br/anp/pt-br/centrais-de-conteudo/dados-abertos/arquivos/shpc/dsan/2021/2021-06-gasolina-etanol.csv'\n",
        "dados_jun = pd.read_csv(link,sep=';')"
      ]
    },
    {
      "cell_type": "markdown",
      "metadata": {},
      "source": [
        "# Realizando a limpeza dos dados"
      ]
    },
    {
      "cell_type": "markdown",
      "metadata": {},
      "source": [
        "Verificando os dados antes de qualquer alteração, para localizar qualquer irregularidade"
      ]
    },
    {
      "cell_type": "code",
      "execution_count": null,
      "metadata": {},
      "outputs": [],
      "source": [
        "dados_jun"
      ]
    },
    {
      "cell_type": "markdown",
      "metadata": {},
      "source": [
        "Verificando se existem dados com valores nulos em suas células ( Valores NaN )"
      ]
    },
    {
      "cell_type": "code",
      "execution_count": null,
      "metadata": {},
      "outputs": [],
      "source": [
        "dados_jun.isna().sum()"
      ]
    },
    {
      "cell_type": "markdown",
      "metadata": {},
      "source": [
        "Deletando a coluna **\"Valor de Compra\"**, pois nessa coluna inexistem informações."
      ]
    },
    {
      "cell_type": "code",
      "execution_count": 5,
      "metadata": {},
      "outputs": [],
      "source": [
        "del dados_jun['Valor de Compra']"
      ]
    },
    {
      "cell_type": "markdown",
      "metadata": {},
      "source": [
        "Fazendo a substituição dos valores nulos ( NaN ) pela string **\"Sem Complemento\"**"
      ]
    },
    {
      "cell_type": "code",
      "execution_count": 6,
      "metadata": {},
      "outputs": [],
      "source": [
        "dados_jun = dados_jun.fillna(\"Sem Complemento\")"
      ]
    },
    {
      "cell_type": "markdown",
      "metadata": {},
      "source": [
        "Substituindo todos os **\"Sem Complemento\"** na coluna Bairro pela string **\"N/A\"**"
      ]
    },
    {
      "cell_type": "code",
      "execution_count": 7,
      "metadata": {},
      "outputs": [],
      "source": [
        "dados_jun['Bairro'] = dados_jun['Bairro'].replace(['Sem Complemento'],'N/A')"
      ]
    },
    {
      "cell_type": "markdown",
      "metadata": {},
      "source": [
        "Removendo valores duplicados nas linhas"
      ]
    },
    {
      "cell_type": "code",
      "execution_count": null,
      "metadata": {},
      "outputs": [],
      "source": [
        "dados_jun.duplicated()\n",
        "dados_jun.drop_duplicates()"
      ]
    },
    {
      "cell_type": "markdown",
      "metadata": {},
      "source": [
        " Verificando se os dados foram substituídos corretamente"
      ]
    },
    {
      "cell_type": "code",
      "execution_count": null,
      "metadata": {},
      "outputs": [],
      "source": [
        "dados_jun[(dados_jun['Bairro'] == 'N/A')]"
      ]
    },
    {
      "cell_type": "markdown",
      "metadata": {},
      "source": [
        "Aplicando métodos para atualização da coluna **\"Valor de Venda\"**, ao analisar, percebi que estavam em valores **string**, e não **inteiro**, aplicando a função lambda para atualização de células."
      ]
    },
    {
      "cell_type": "code",
      "execution_count": 14,
      "metadata": {},
      "outputs": [],
      "source": [
        "dados_jun['Valor de Venda'] = dados_jun['Valor de Venda'].apply(lambda x:str(x).replace(\",\",\".\"))\n",
        "dados_jun['Valor de Venda'] = dados_jun['Valor de Venda'].astype('float64')"
      ]
    },
    {
      "cell_type": "markdown",
      "metadata": {},
      "source": [
        "Ao verificar também, nota-se que a coluna de **\"Data da Coleta\"** não está em *DataStamp*, e sim em *String*, portanto, aplicamos uma função também para corrigir isso."
      ]
    },
    {
      "cell_type": "code",
      "execution_count": 20,
      "metadata": {},
      "outputs": [],
      "source": [
        "dados_jun['Data da Coleta'] = pd.to_datetime(dados_jun['Data da Coleta'])"
      ]
    },
    {
      "cell_type": "markdown",
      "metadata": {},
      "source": [
        "Verificando os tipos de dados dentro de cada coluna no DataFrame"
      ]
    },
    {
      "cell_type": "code",
      "execution_count": 21,
      "metadata": {},
      "outputs": [
        {
          "data": {
            "text/plain": [
              "Região - Sigla               object\n",
              "Estado - Sigla               object\n",
              "Município                    object\n",
              "Revenda                      object\n",
              "CNPJ da Revenda              object\n",
              "Nome da Rua                  object\n",
              "Número Rua                   object\n",
              "Complemento                  object\n",
              "Bairro                       object\n",
              "Cep                          object\n",
              "Produto                      object\n",
              "Data da Coleta       datetime64[ns]\n",
              "Valor de Venda              float64\n",
              "Unidade de Medida            object\n",
              "Bandeira                     object\n",
              "dtype: object"
            ]
          },
          "execution_count": 21,
          "metadata": {},
          "output_type": "execute_result"
        }
      ],
      "source": [
        "dados_jun.dtypes"
      ]
    },
    {
      "cell_type": "markdown",
      "metadata": {},
      "source": [
        "Após esses procedimentos, nossos dados estão limpos e prontos para a análise, são procedimentos simples mas são fundamentais para que a análise ocorra de forma precisa e coesa, e que erros não apareçam durante ela. Abaixo vou fazer uma nova verificação de dados, imprimindo todo nosso *DataSet* e dar aquela última checada."
      ]
    },
    {
      "cell_type": "code",
      "execution_count": null,
      "metadata": {},
      "outputs": [],
      "source": [
        "dados_jun"
      ]
    },
    {
      "cell_type": "markdown",
      "metadata": {
        "id": "UnvG5schogNH"
      },
      "source": [
        "## Análise dos Dados do mês de Julho de 2021"
      ]
    },
    {
      "cell_type": "code",
      "execution_count": 11,
      "metadata": {
        "colab": {
          "base_uri": "https://localhost:8080/",
          "height": 1000
        },
        "id": "eOnjm--9EsiD",
        "outputId": "dd615394-9032-49a9-9d06-4d12ebddc389"
      },
      "outputs": [
        {
          "data": {
            "text/html": [
              "<div>\n",
              "<style scoped>\n",
              "    .dataframe tbody tr th:only-of-type {\n",
              "        vertical-align: middle;\n",
              "    }\n",
              "\n",
              "    .dataframe tbody tr th {\n",
              "        vertical-align: top;\n",
              "    }\n",
              "\n",
              "    .dataframe thead th {\n",
              "        text-align: right;\n",
              "    }\n",
              "</style>\n",
              "<table border=\"1\" class=\"dataframe\">\n",
              "  <thead>\n",
              "    <tr style=\"text-align: right;\">\n",
              "      <th></th>\n",
              "      <th>Região - Sigla</th>\n",
              "      <th>Estado - Sigla</th>\n",
              "      <th>Município</th>\n",
              "      <th>Revenda</th>\n",
              "      <th>CNPJ da Revenda</th>\n",
              "      <th>Nome da Rua</th>\n",
              "      <th>Número Rua</th>\n",
              "      <th>Complemento</th>\n",
              "      <th>Bairro</th>\n",
              "      <th>Cep</th>\n",
              "      <th>Produto</th>\n",
              "      <th>Data da Coleta</th>\n",
              "      <th>Valor de Venda</th>\n",
              "      <th>Valor de Compra</th>\n",
              "      <th>Unidade de Medida</th>\n",
              "      <th>Bandeira</th>\n",
              "    </tr>\n",
              "  </thead>\n",
              "  <tbody>\n",
              "    <tr>\n",
              "      <th>0</th>\n",
              "      <td>NE</td>\n",
              "      <td>CE</td>\n",
              "      <td>MARACANAU</td>\n",
              "      <td>BEZERRA &amp; MENDES COMERCIAL DE PETRÓLEO LTDA.</td>\n",
              "      <td>05.397.086/0001-51</td>\n",
              "      <td>RODOVIA MARANGUAPE - FORTALEZA - KM 06</td>\n",
              "      <td>S/N</td>\n",
              "      <td>NaN</td>\n",
              "      <td>PARQUE LUZARDO VIANA</td>\n",
              "      <td>61910-000</td>\n",
              "      <td>GASOLINA</td>\n",
              "      <td>01/07/2021</td>\n",
              "      <td>5,499</td>\n",
              "      <td>NaN</td>\n",
              "      <td>R$ / litro</td>\n",
              "      <td>IPIRANGA</td>\n",
              "    </tr>\n",
              "    <tr>\n",
              "      <th>1</th>\n",
              "      <td>NE</td>\n",
              "      <td>CE</td>\n",
              "      <td>MARACANAU</td>\n",
              "      <td>BEZERRA &amp; MENDES COMERCIAL DE PETRÓLEO LTDA.</td>\n",
              "      <td>05.397.086/0001-51</td>\n",
              "      <td>RODOVIA MARANGUAPE - FORTALEZA - KM 06</td>\n",
              "      <td>S/N</td>\n",
              "      <td>NaN</td>\n",
              "      <td>PARQUE LUZARDO VIANA</td>\n",
              "      <td>61910-000</td>\n",
              "      <td>ETANOL</td>\n",
              "      <td>01/07/2021</td>\n",
              "      <td>5,2</td>\n",
              "      <td>NaN</td>\n",
              "      <td>R$ / litro</td>\n",
              "      <td>IPIRANGA</td>\n",
              "    </tr>\n",
              "    <tr>\n",
              "      <th>2</th>\n",
              "      <td>NE</td>\n",
              "      <td>CE</td>\n",
              "      <td>MARACANAU</td>\n",
              "      <td>BEZERRA &amp; MENDES COMERCIAL DE PETRÓLEO LTDA.</td>\n",
              "      <td>05.397.086/0001-51</td>\n",
              "      <td>RODOVIA MARANGUAPE - FORTALEZA - KM 06</td>\n",
              "      <td>S/N</td>\n",
              "      <td>NaN</td>\n",
              "      <td>PARQUE LUZARDO VIANA</td>\n",
              "      <td>61910-000</td>\n",
              "      <td>GASOLINA ADITIVADA</td>\n",
              "      <td>01/07/2021</td>\n",
              "      <td>5,699</td>\n",
              "      <td>NaN</td>\n",
              "      <td>R$ / litro</td>\n",
              "      <td>IPIRANGA</td>\n",
              "    </tr>\n",
              "    <tr>\n",
              "      <th>3</th>\n",
              "      <td>NE</td>\n",
              "      <td>CE</td>\n",
              "      <td>MARACANAU</td>\n",
              "      <td>LUIZA GLAURIA R T MENEZES</td>\n",
              "      <td>03.602.329/0001-10</td>\n",
              "      <td>ESTRADA FORTALEZA MARANGUAPE</td>\n",
              "      <td>S/N</td>\n",
              "      <td>NaN</td>\n",
              "      <td>KAGADO</td>\n",
              "      <td>61901-410</td>\n",
              "      <td>GASOLINA</td>\n",
              "      <td>01/07/2021</td>\n",
              "      <td>5,49</td>\n",
              "      <td>NaN</td>\n",
              "      <td>R$ / litro</td>\n",
              "      <td>PETROBRAS DISTRIBUIDORA S.A.</td>\n",
              "    </tr>\n",
              "    <tr>\n",
              "      <th>4</th>\n",
              "      <td>NE</td>\n",
              "      <td>CE</td>\n",
              "      <td>MARACANAU</td>\n",
              "      <td>LUIZA GLAURIA R T MENEZES</td>\n",
              "      <td>03.602.329/0001-10</td>\n",
              "      <td>ESTRADA FORTALEZA MARANGUAPE</td>\n",
              "      <td>S/N</td>\n",
              "      <td>NaN</td>\n",
              "      <td>KAGADO</td>\n",
              "      <td>61901-410</td>\n",
              "      <td>ETANOL</td>\n",
              "      <td>01/07/2021</td>\n",
              "      <td>4,99</td>\n",
              "      <td>NaN</td>\n",
              "      <td>R$ / litro</td>\n",
              "      <td>PETROBRAS DISTRIBUIDORA S.A.</td>\n",
              "    </tr>\n",
              "    <tr>\n",
              "      <th>...</th>\n",
              "      <td>...</td>\n",
              "      <td>...</td>\n",
              "      <td>...</td>\n",
              "      <td>...</td>\n",
              "      <td>...</td>\n",
              "      <td>...</td>\n",
              "      <td>...</td>\n",
              "      <td>...</td>\n",
              "      <td>...</td>\n",
              "      <td>...</td>\n",
              "      <td>...</td>\n",
              "      <td>...</td>\n",
              "      <td>...</td>\n",
              "      <td>...</td>\n",
              "      <td>...</td>\n",
              "      <td>...</td>\n",
              "    </tr>\n",
              "    <tr>\n",
              "      <th>47844</th>\n",
              "      <td>SE</td>\n",
              "      <td>ES</td>\n",
              "      <td>ARACRUZ</td>\n",
              "      <td>POSTO DE COMBUSTIVEL SHOW EIRELI</td>\n",
              "      <td>23.797.660/0001-40</td>\n",
              "      <td>AVENIDA CORONEL VENANCIO FLORES</td>\n",
              "      <td>28</td>\n",
              "      <td>NaN</td>\n",
              "      <td>CENTRO</td>\n",
              "      <td>29190-010</td>\n",
              "      <td>GASOLINA ADITIVADA</td>\n",
              "      <td>26/07/2021</td>\n",
              "      <td>5,87</td>\n",
              "      <td>NaN</td>\n",
              "      <td>R$ / litro</td>\n",
              "      <td>BRANCA</td>\n",
              "    </tr>\n",
              "    <tr>\n",
              "      <th>47845</th>\n",
              "      <td>SE</td>\n",
              "      <td>ES</td>\n",
              "      <td>ARACRUZ</td>\n",
              "      <td>POSTO DE COMBUSTIVEL SHOW EIRELI</td>\n",
              "      <td>23.797.660/0001-40</td>\n",
              "      <td>AVENIDA CORONEL VENANCIO FLORES</td>\n",
              "      <td>28</td>\n",
              "      <td>NaN</td>\n",
              "      <td>CENTRO</td>\n",
              "      <td>29190-010</td>\n",
              "      <td>ETANOL</td>\n",
              "      <td>26/07/2021</td>\n",
              "      <td>4,99</td>\n",
              "      <td>NaN</td>\n",
              "      <td>R$ / litro</td>\n",
              "      <td>BRANCA</td>\n",
              "    </tr>\n",
              "    <tr>\n",
              "      <th>47846</th>\n",
              "      <td>SE</td>\n",
              "      <td>ES</td>\n",
              "      <td>ARACRUZ</td>\n",
              "      <td>POSTO DE COMBUSTIVEL SHOW EIRELI</td>\n",
              "      <td>23.797.660/0001-40</td>\n",
              "      <td>AVENIDA CORONEL VENANCIO FLORES</td>\n",
              "      <td>28</td>\n",
              "      <td>NaN</td>\n",
              "      <td>CENTRO</td>\n",
              "      <td>29190-010</td>\n",
              "      <td>GASOLINA</td>\n",
              "      <td>26/07/2021</td>\n",
              "      <td>5,87</td>\n",
              "      <td>NaN</td>\n",
              "      <td>R$ / litro</td>\n",
              "      <td>BRANCA</td>\n",
              "    </tr>\n",
              "    <tr>\n",
              "      <th>47847</th>\n",
              "      <td>SE</td>\n",
              "      <td>MG</td>\n",
              "      <td>ARAXA</td>\n",
              "      <td>AUTO POSTO BRANQUINHO LTDA</td>\n",
              "      <td>37.461.683/0001-94</td>\n",
              "      <td>AVENIDA SENADOR MONTANDON</td>\n",
              "      <td>950</td>\n",
              "      <td>NaN</td>\n",
              "      <td>CENTRO</td>\n",
              "      <td>38183-214</td>\n",
              "      <td>ETANOL</td>\n",
              "      <td>28/07/2021</td>\n",
              "      <td>4,599</td>\n",
              "      <td>NaN</td>\n",
              "      <td>R$ / litro</td>\n",
              "      <td>RIO BRANCO</td>\n",
              "    </tr>\n",
              "    <tr>\n",
              "      <th>47848</th>\n",
              "      <td>SE</td>\n",
              "      <td>MG</td>\n",
              "      <td>ARAXA</td>\n",
              "      <td>AUTO POSTO BRANQUINHO LTDA</td>\n",
              "      <td>37.461.683/0001-94</td>\n",
              "      <td>AVENIDA SENADOR MONTANDON</td>\n",
              "      <td>950</td>\n",
              "      <td>NaN</td>\n",
              "      <td>CENTRO</td>\n",
              "      <td>38183-214</td>\n",
              "      <td>GASOLINA</td>\n",
              "      <td>28/07/2021</td>\n",
              "      <td>6,199</td>\n",
              "      <td>NaN</td>\n",
              "      <td>R$ / litro</td>\n",
              "      <td>RIO BRANCO</td>\n",
              "    </tr>\n",
              "  </tbody>\n",
              "</table>\n",
              "<p>47849 rows × 16 columns</p>\n",
              "</div>"
            ],
            "text/plain": [
              "      Região - Sigla Estado - Sigla  Município  \\\n",
              "0                 NE             CE  MARACANAU   \n",
              "1                 NE             CE  MARACANAU   \n",
              "2                 NE             CE  MARACANAU   \n",
              "3                 NE             CE  MARACANAU   \n",
              "4                 NE             CE  MARACANAU   \n",
              "...              ...            ...        ...   \n",
              "47844             SE             ES    ARACRUZ   \n",
              "47845             SE             ES    ARACRUZ   \n",
              "47846             SE             ES    ARACRUZ   \n",
              "47847             SE             MG      ARAXA   \n",
              "47848             SE             MG      ARAXA   \n",
              "\n",
              "                                            Revenda      CNPJ da Revenda  \\\n",
              "0      BEZERRA & MENDES COMERCIAL DE PETRÓLEO LTDA.   05.397.086/0001-51   \n",
              "1      BEZERRA & MENDES COMERCIAL DE PETRÓLEO LTDA.   05.397.086/0001-51   \n",
              "2      BEZERRA & MENDES COMERCIAL DE PETRÓLEO LTDA.   05.397.086/0001-51   \n",
              "3                         LUIZA GLAURIA R T MENEZES   03.602.329/0001-10   \n",
              "4                         LUIZA GLAURIA R T MENEZES   03.602.329/0001-10   \n",
              "...                                             ...                  ...   \n",
              "47844              POSTO DE COMBUSTIVEL SHOW EIRELI   23.797.660/0001-40   \n",
              "47845              POSTO DE COMBUSTIVEL SHOW EIRELI   23.797.660/0001-40   \n",
              "47846              POSTO DE COMBUSTIVEL SHOW EIRELI   23.797.660/0001-40   \n",
              "47847                    AUTO POSTO BRANQUINHO LTDA   37.461.683/0001-94   \n",
              "47848                    AUTO POSTO BRANQUINHO LTDA   37.461.683/0001-94   \n",
              "\n",
              "                                  Nome da Rua Número Rua Complemento  \\\n",
              "0      RODOVIA MARANGUAPE - FORTALEZA - KM 06        S/N         NaN   \n",
              "1      RODOVIA MARANGUAPE - FORTALEZA - KM 06        S/N         NaN   \n",
              "2      RODOVIA MARANGUAPE - FORTALEZA - KM 06        S/N         NaN   \n",
              "3                ESTRADA FORTALEZA MARANGUAPE        S/N         NaN   \n",
              "4                ESTRADA FORTALEZA MARANGUAPE        S/N         NaN   \n",
              "...                                       ...        ...         ...   \n",
              "47844         AVENIDA CORONEL VENANCIO FLORES         28         NaN   \n",
              "47845         AVENIDA CORONEL VENANCIO FLORES         28         NaN   \n",
              "47846         AVENIDA CORONEL VENANCIO FLORES         28         NaN   \n",
              "47847               AVENIDA SENADOR MONTANDON        950         NaN   \n",
              "47848               AVENIDA SENADOR MONTANDON        950         NaN   \n",
              "\n",
              "                     Bairro        Cep             Produto Data da Coleta  \\\n",
              "0      PARQUE LUZARDO VIANA  61910-000            GASOLINA     01/07/2021   \n",
              "1      PARQUE LUZARDO VIANA  61910-000              ETANOL     01/07/2021   \n",
              "2      PARQUE LUZARDO VIANA  61910-000  GASOLINA ADITIVADA     01/07/2021   \n",
              "3                    KAGADO  61901-410            GASOLINA     01/07/2021   \n",
              "4                    KAGADO  61901-410              ETANOL     01/07/2021   \n",
              "...                     ...        ...                 ...            ...   \n",
              "47844                CENTRO  29190-010  GASOLINA ADITIVADA     26/07/2021   \n",
              "47845                CENTRO  29190-010              ETANOL     26/07/2021   \n",
              "47846                CENTRO  29190-010            GASOLINA     26/07/2021   \n",
              "47847                CENTRO  38183-214              ETANOL     28/07/2021   \n",
              "47848                CENTRO  38183-214            GASOLINA     28/07/2021   \n",
              "\n",
              "      Valor de Venda  Valor de Compra Unidade de Medida  \\\n",
              "0              5,499              NaN        R$ / litro   \n",
              "1                5,2              NaN        R$ / litro   \n",
              "2              5,699              NaN        R$ / litro   \n",
              "3               5,49              NaN        R$ / litro   \n",
              "4               4,99              NaN        R$ / litro   \n",
              "...              ...              ...               ...   \n",
              "47844           5,87              NaN        R$ / litro   \n",
              "47845           4,99              NaN        R$ / litro   \n",
              "47846           5,87              NaN        R$ / litro   \n",
              "47847          4,599              NaN        R$ / litro   \n",
              "47848          6,199              NaN        R$ / litro   \n",
              "\n",
              "                           Bandeira  \n",
              "0                          IPIRANGA  \n",
              "1                          IPIRANGA  \n",
              "2                          IPIRANGA  \n",
              "3      PETROBRAS DISTRIBUIDORA S.A.  \n",
              "4      PETROBRAS DISTRIBUIDORA S.A.  \n",
              "...                             ...  \n",
              "47844                        BRANCA  \n",
              "47845                        BRANCA  \n",
              "47846                        BRANCA  \n",
              "47847                    RIO BRANCO  \n",
              "47848                    RIO BRANCO  \n",
              "\n",
              "[47849 rows x 16 columns]"
            ]
          },
          "execution_count": 11,
          "metadata": {},
          "output_type": "execute_result"
        }
      ],
      "source": [
        "link2 = 'https://www.gov.br/anp/pt-br/centrais-de-conteudo/dados-abertos/arquivos/shpc/dsan/2021/2021-07-gasolina-etanol.csv'\n",
        "dados_jul = pd.read_csv(link2,sep=';')\n",
        "dados_jul"
      ]
    }
  ],
  "metadata": {
    "colab": {
      "collapsed_sections": [],
      "include_colab_link": true,
      "name": "Projeto Módulo 4 - Dados.ipynb",
      "provenance": []
    },
    "kernelspec": {
      "display_name": "Python 3",
      "name": "python3"
    },
    "language_info": {
      "codemirror_mode": {
        "name": "ipython",
        "version": 3
      },
      "file_extension": ".py",
      "mimetype": "text/x-python",
      "name": "python",
      "nbconvert_exporter": "python",
      "pygments_lexer": "ipython3",
      "version": "3.9.10"
    }
  },
  "nbformat": 4,
  "nbformat_minor": 0
}
